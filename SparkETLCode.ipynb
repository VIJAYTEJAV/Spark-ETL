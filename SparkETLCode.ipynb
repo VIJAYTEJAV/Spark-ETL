{
 "cells": [
  {
   "cell_type": "markdown",
   "metadata": {},
   "source": [
    "# ETL Project- SparNord ATM usage analysis"
   ]
  },
  {
   "cell_type": "code",
   "execution_count": 1,
   "metadata": {},
   "outputs": [],
   "source": [
    "import os\n",
    "import sys\n",
    "os.environ[\"PYSPARK_PYTHON\"] = \"/opt/cloudera/parcels/Anaconda/bin/python\"\n",
    "os.environ[\"JAVA_HOME\"] = \"/usr/java/jdk1.8.0_161/jre\"\n",
    "os.environ[\"SPARK_HOME\"] = \"/opt/cloudera/parcels/SPARK2-2.3.0.cloudera2-1.cdh5.13.3.p0.316101/lib/spark2/\"\n",
    "os.environ[\"PYLIB\"] = os.environ[\"SPARK_HOME\"] + \"/python/lib\"\n",
    "sys.path.insert(0, os.environ[\"PYLIB\"] +\"/py4j-0.10.6-src.zip\")\n",
    "sys.path.insert(0, os.environ[\"PYLIB\"] +\"/pyspark.zip\")"
   ]
  },
  {
   "cell_type": "code",
   "execution_count": 2,
   "metadata": {},
   "outputs": [
    {
     "data": {
      "text/html": [
       "\n",
       "            <div>\n",
       "                <p><b>SparkSession - hive</b></p>\n",
       "                \n",
       "        <div>\n",
       "            <p><b>SparkContext</b></p>\n",
       "\n",
       "            <p><a href=\"http://ip-10-0-0-173.ec2.internal:4040\">Spark UI</a></p>\n",
       "\n",
       "            <dl>\n",
       "              <dt>Version</dt>\n",
       "                <dd><code>v2.3.0.cloudera2</code></dd>\n",
       "              <dt>Master</dt>\n",
       "                <dd><code>local</code></dd>\n",
       "              <dt>AppName</dt>\n",
       "                <dd><code>ATM_TRANS</code></dd>\n",
       "            </dl>\n",
       "        </div>\n",
       "        \n",
       "            </div>\n",
       "        "
      ],
      "text/plain": [
       "<pyspark.sql.session.SparkSession at 0x7f337b7cf090>"
      ]
     },
     "execution_count": 2,
     "metadata": {},
     "output_type": "execute_result"
    }
   ],
   "source": [
    "#initiate session\n",
    "from pyspark.sql.session import SparkSession\n",
    "spark = SparkSession.builder.appName('ATM_TRANS').master(\"local\").enableHiveSupport().getOrCreate()\n",
    "spark#df = spark.read.csv(\"hdfs://user/root/atm_trans/part-m-00000\", sep=\",\").toDF()"
   ]
  },
  {
   "cell_type": "code",
   "execution_count": 3,
   "metadata": {},
   "outputs": [],
   "source": [
    "#importing required datatypes\n",
    "from pyspark.sql.types import StructType,StructField,StructType,StringType,IntegerType,ByteType,DoubleType,ShortType,DateType,TimestampType\n",
    "from pyspark.sql.functions import col,lit\n",
    "\n",
    "df_schema= StructType([\n",
    "        StructField('year',StringType(),True),\n",
    "    StructField('month',StringType(),True),\n",
    "    StructField('day',StringType(),True),\n",
    "    StructField('weekday',StringType(),True),\n",
    "    StructField('hour',StringType(),True),\n",
    "    StructField('atm_status',StringType(),True),\n",
    "    StructField('atm_id',ByteType(),True),\n",
    "    StructField('atm_manufacturer',StringType(),True),\n",
    "    StructField('atm_location',StringType(),True),\n",
    "    StructField('atm_street_name',StringType(),True),\n",
    "    StructField('atm_street_number',ShortType(),True),\n",
    "    StructField('atm_zipcode',ShortType(),True),\n",
    "    StructField('atm_lat',DoubleType(),True),\n",
    "    StructField('atm_lon',DoubleType(),True),\n",
    "    StructField('currency',StringType(),True),\n",
    "    StructField('card_type',StringType(),True),\n",
    "    StructField('transaction_amount',ShortType(),True),\n",
    "    StructField('service',StringType(),True),\n",
    "    StructField('message_code',StringType(),True),\n",
    "    StructField('message_text',StringType(),True),\n",
    "    StructField('weather_lat',DoubleType(),True),\n",
    "    StructField('weather_lon',DoubleType(),True),\n",
    "    StructField('weather_city_id',IntegerType(),True),\n",
    "    StructField('weather_city_name',StringType(),True),\n",
    "    StructField('temp',DoubleType(),True),\n",
    "    StructField('pressure',ShortType(),True),\n",
    "    StructField('humidity',ShortType(),True),\n",
    "    StructField('wind_speed',ByteType(),True),\n",
    "    StructField('wind_deg',ShortType(),True),\n",
    "    StructField('rain_3h',DoubleType(),True),\n",
    "    StructField('clouds_all',ByteType(),True),\n",
    "    StructField('weather_id',IntegerType(),True),\n",
    "    StructField('weather_main',StringType(),True),\n",
    "    StructField('weather_description',StringType(),True)\n",
    "    ])\n",
    "\n"
   ]
  },
  {
   "cell_type": "code",
   "execution_count": 4,
   "metadata": {},
   "outputs": [],
   "source": [
    "df = spark.read.csv(\"/user/root/atm_trans/part-m-00000\", sep=\",\",schema=df_schema) #.toDF('year','month','day','weekday','hour','atm_status','atm_id','atm_manufacturer','atm_location','atm_street_name','atm_street_number','atm_zipcode','atm_lat','atm_lon','currency','card_type','transaction_amount','service','message_code','message_text','weather_lat','weather_lon','weather_city_id','weather_city_name','temp','pressure','humidity','wind_speed','wind_deg','rain_3h','clouds_all','weather_id','weather_main','weather_description')"
   ]
  },
  {
   "cell_type": "code",
   "execution_count": 5,
   "metadata": {},
   "outputs": [
    {
     "data": {
      "text/plain": [
       "2468572"
      ]
     },
     "execution_count": 5,
     "metadata": {},
     "output_type": "execute_result"
    }
   ],
   "source": [
    "df.count()"
   ]
  },
  {
   "cell_type": "code",
   "execution_count": 6,
   "metadata": {},
   "outputs": [
    {
     "name": "stdout",
     "output_type": "stream",
     "text": [
      "+--------------------+\n",
      "|           card_type|\n",
      "+--------------------+\n",
      "|     Dankort - on-us|\n",
      "|              CIRRUS|\n",
      "|         HÃƒÂ¦vekort|\n",
      "|                VISA|\n",
      "|  Mastercard - on-us|\n",
      "|             Maestro|\n",
      "|Visa Dankort - on-us|\n",
      "|        Visa Dankort|\n",
      "|            VisaPlus|\n",
      "|          MasterCard|\n",
      "|             Dankort|\n",
      "| HÃƒÂ¦vekort - on-us|\n",
      "+--------------------+\n",
      "\n"
     ]
    }
   ],
   "source": [
    "#creating cardtype dataframe\n",
    "dim_cardtype=df.select('card_type').distinct()\n",
    "dim_cardtype.show()"
   ]
  },
  {
   "cell_type": "code",
   "execution_count": 7,
   "metadata": {},
   "outputs": [
    {
     "name": "stdout",
     "output_type": "stream",
     "text": [
      "<class 'pandas.core.frame.DataFrame'>\n",
      "RangeIndex: 12 entries, 0 to 11\n",
      "Data columns (total 1 columns):\n",
      "card_type    12 non-null object\n",
      "dtypes: object(1)\n",
      "memory usage: 168.0+ bytes\n"
     ]
    }
   ],
   "source": [
    "#creating card_type dimention\n",
    "import pandas as pd\n",
    "import numpy as np\n",
    "import pyarrow\n",
    "pd_df= dim_cardtype.select(\"*\").toPandas()\n",
    "pd_df.info()"
   ]
  },
  {
   "cell_type": "code",
   "execution_count": 8,
   "metadata": {},
   "outputs": [
    {
     "data": {
      "text/html": [
       "<div>\n",
       "<style scoped>\n",
       "    .dataframe tbody tr th:only-of-type {\n",
       "        vertical-align: middle;\n",
       "    }\n",
       "\n",
       "    .dataframe tbody tr th {\n",
       "        vertical-align: top;\n",
       "    }\n",
       "\n",
       "    .dataframe thead th {\n",
       "        text-align: right;\n",
       "    }\n",
       "</style>\n",
       "<table border=\"1\" class=\"dataframe\">\n",
       "  <thead>\n",
       "    <tr style=\"text-align: right;\">\n",
       "      <th></th>\n",
       "      <th>card_type</th>\n",
       "      <th>card_type_id</th>\n",
       "    </tr>\n",
       "  </thead>\n",
       "  <tbody>\n",
       "    <tr>\n",
       "      <th>0</th>\n",
       "      <td>Dankort - on-us</td>\n",
       "      <td>1</td>\n",
       "    </tr>\n",
       "    <tr>\n",
       "      <th>1</th>\n",
       "      <td>CIRRUS</td>\n",
       "      <td>2</td>\n",
       "    </tr>\n",
       "    <tr>\n",
       "      <th>2</th>\n",
       "      <td>HÃƒÂ¦vekort</td>\n",
       "      <td>3</td>\n",
       "    </tr>\n",
       "    <tr>\n",
       "      <th>3</th>\n",
       "      <td>VISA</td>\n",
       "      <td>4</td>\n",
       "    </tr>\n",
       "    <tr>\n",
       "      <th>4</th>\n",
       "      <td>Mastercard - on-us</td>\n",
       "      <td>5</td>\n",
       "    </tr>\n",
       "    <tr>\n",
       "      <th>5</th>\n",
       "      <td>Maestro</td>\n",
       "      <td>6</td>\n",
       "    </tr>\n",
       "    <tr>\n",
       "      <th>6</th>\n",
       "      <td>Visa Dankort - on-us</td>\n",
       "      <td>7</td>\n",
       "    </tr>\n",
       "    <tr>\n",
       "      <th>7</th>\n",
       "      <td>Visa Dankort</td>\n",
       "      <td>8</td>\n",
       "    </tr>\n",
       "    <tr>\n",
       "      <th>8</th>\n",
       "      <td>VisaPlus</td>\n",
       "      <td>9</td>\n",
       "    </tr>\n",
       "    <tr>\n",
       "      <th>9</th>\n",
       "      <td>MasterCard</td>\n",
       "      <td>10</td>\n",
       "    </tr>\n",
       "    <tr>\n",
       "      <th>10</th>\n",
       "      <td>Dankort</td>\n",
       "      <td>11</td>\n",
       "    </tr>\n",
       "    <tr>\n",
       "      <th>11</th>\n",
       "      <td>HÃƒÂ¦vekort - on-us</td>\n",
       "      <td>12</td>\n",
       "    </tr>\n",
       "  </tbody>\n",
       "</table>\n",
       "</div>"
      ],
      "text/plain": [
       "               card_type  card_type_id\n",
       "0        Dankort - on-us             1\n",
       "1                 CIRRUS             2\n",
       "2            HÃƒÂ¦vekort             3\n",
       "3                   VISA             4\n",
       "4     Mastercard - on-us             5\n",
       "5                Maestro             6\n",
       "6   Visa Dankort - on-us             7\n",
       "7           Visa Dankort             8\n",
       "8               VisaPlus             9\n",
       "9             MasterCard            10\n",
       "10               Dankort            11\n",
       "11   HÃƒÂ¦vekort - on-us            12"
      ]
     },
     "execution_count": 8,
     "metadata": {},
     "output_type": "execute_result"
    }
   ],
   "source": [
    "pd_df['card_type_id'] = pd_df.index + 1\n",
    "pd_df"
   ]
  },
  {
   "cell_type": "code",
   "execution_count": 9,
   "metadata": {},
   "outputs": [
    {
     "data": {
      "text/plain": [
       "12"
      ]
     },
     "execution_count": 9,
     "metadata": {},
     "output_type": "execute_result"
    }
   ],
   "source": [
    "dim_cardtype = spark.createDataFrame(pd_df)\n",
    "dim_cardtype.count()"
   ]
  },
  {
   "cell_type": "code",
   "execution_count": 10,
   "metadata": {},
   "outputs": [
    {
     "name": "stdout",
     "output_type": "stream",
     "text": [
      "+--------------------+----------------+-----------------+-----------+-------+-------+\n",
      "|        atm_location| atm_street_name|atm_street_number|atm_zipcode|atm_lat|atm_lon|\n",
      "+--------------------+----------------+-----------------+-----------+-------+-------+\n",
      "|               Vadum|  Ellehammersvej|               43|       9430| 57.118|  9.861|\n",
      "|            Slagelse| Mariendals Alle|               29|       4200| 55.398| 11.342|\n",
      "|          Fredericia|SjÃƒÂ¦llandsgade|               33|       7000| 55.564|  9.757|\n",
      "|             Kolding|        Vejlevej|              135|       6000| 55.505|  9.457|\n",
      "|   HÃƒÂ¸rning Hallen|        Toftevej|               53|       8362| 56.091| 10.033|\n",
      "|                Aars| Himmerlandsgade|               70|       9600| 56.803|  9.518|\n",
      "|     Aarhus Lufthavn| Ny Lufthavnsvej|               24|       8560| 56.308| 10.627|\n",
      "|                 Fur|      StenÃƒÂ¸re|               19|       7884| 56.805|   9.02|\n",
      "|            Hasseris|     Hasserisvej|              113|       9000| 57.044|  9.898|\n",
      "|Intern  KÃƒÂ¸benhavn|RÃƒÂ¥dhuspladsen|               75|       1550| 55.676| 12.571|\n",
      "|      Skelagervej 15|     Skelagervej|               15|       9000| 57.023|  9.891|\n",
      "|    Intern HolbÃƒÂ¦k|     Slotsvolden|                7|       4300| 55.718| 11.704|\n",
      "|              Viborg|       Toldboden|                3|       8800| 56.448|  9.401|\n",
      "|             SÃƒÂ¦by|      Vestergade|                3|       9300| 57.334| 10.515|\n",
      "|             Aabybro|    ÃƒËœstergade|                6|       9440| 57.162|   9.73|\n",
      "|             Vodskov|      Vodskovvej|               27|       9310| 57.104| 10.027|\n",
      "|               Taars|        Bredgade|               91|       9830| 57.385| 10.116|\n",
      "|         Skive Lobby|        Adelgade|                8|       7800| 56.567|  9.027|\n",
      "|        HelsingÃƒÂ¸r|  Sct. Olai Gade|               39|       3000| 56.036| 12.612|\n",
      "|             Jebjerg|       Kirkegade|                4|       7870| 56.671|  9.013|\n",
      "+--------------------+----------------+-----------------+-----------+-------+-------+\n",
      "only showing top 20 rows\n",
      "\n"
     ]
    }
   ],
   "source": [
    "#Creating location dimension\n",
    "dim_loc=df.select('atm_location','atm_street_name','atm_street_number','atm_zipcode','atm_lat','atm_lon').distinct()\n",
    "dim_loc.show()"
   ]
  },
  {
   "cell_type": "code",
   "execution_count": 11,
   "metadata": {},
   "outputs": [],
   "source": [
    "pd_loc= dim_loc.select(\"*\").toPandas()"
   ]
  },
  {
   "cell_type": "code",
   "execution_count": 12,
   "metadata": {},
   "outputs": [
    {
     "data": {
      "text/html": [
       "<div>\n",
       "<style scoped>\n",
       "    .dataframe tbody tr th:only-of-type {\n",
       "        vertical-align: middle;\n",
       "    }\n",
       "\n",
       "    .dataframe tbody tr th {\n",
       "        vertical-align: top;\n",
       "    }\n",
       "\n",
       "    .dataframe thead th {\n",
       "        text-align: right;\n",
       "    }\n",
       "</style>\n",
       "<table border=\"1\" class=\"dataframe\">\n",
       "  <thead>\n",
       "    <tr style=\"text-align: right;\">\n",
       "      <th></th>\n",
       "      <th>loc_id</th>\n",
       "      <th>atm_location</th>\n",
       "      <th>atm_street_name</th>\n",
       "      <th>atm_street_number</th>\n",
       "      <th>atm_zipcode</th>\n",
       "      <th>atm_lat</th>\n",
       "      <th>atm_lon</th>\n",
       "    </tr>\n",
       "  </thead>\n",
       "  <tbody>\n",
       "    <tr>\n",
       "      <th>0</th>\n",
       "      <td>1</td>\n",
       "      <td>Vadum</td>\n",
       "      <td>Ellehammersvej</td>\n",
       "      <td>43</td>\n",
       "      <td>9430</td>\n",
       "      <td>57.118</td>\n",
       "      <td>9.861</td>\n",
       "    </tr>\n",
       "    <tr>\n",
       "      <th>1</th>\n",
       "      <td>2</td>\n",
       "      <td>Slagelse</td>\n",
       "      <td>Mariendals Alle</td>\n",
       "      <td>29</td>\n",
       "      <td>4200</td>\n",
       "      <td>55.398</td>\n",
       "      <td>11.342</td>\n",
       "    </tr>\n",
       "    <tr>\n",
       "      <th>2</th>\n",
       "      <td>3</td>\n",
       "      <td>Fredericia</td>\n",
       "      <td>SjÃƒÂ¦llandsgade</td>\n",
       "      <td>33</td>\n",
       "      <td>7000</td>\n",
       "      <td>55.564</td>\n",
       "      <td>9.757</td>\n",
       "    </tr>\n",
       "    <tr>\n",
       "      <th>3</th>\n",
       "      <td>4</td>\n",
       "      <td>Kolding</td>\n",
       "      <td>Vejlevej</td>\n",
       "      <td>135</td>\n",
       "      <td>6000</td>\n",
       "      <td>55.505</td>\n",
       "      <td>9.457</td>\n",
       "    </tr>\n",
       "    <tr>\n",
       "      <th>4</th>\n",
       "      <td>5</td>\n",
       "      <td>HÃƒÂ¸rning Hallen</td>\n",
       "      <td>Toftevej</td>\n",
       "      <td>53</td>\n",
       "      <td>8362</td>\n",
       "      <td>56.091</td>\n",
       "      <td>10.033</td>\n",
       "    </tr>\n",
       "  </tbody>\n",
       "</table>\n",
       "</div>"
      ],
      "text/plain": [
       "   loc_id       atm_location   atm_street_name  atm_street_number  \\\n",
       "0       1              Vadum    Ellehammersvej                 43   \n",
       "1       2           Slagelse   Mariendals Alle                 29   \n",
       "2       3         Fredericia  SjÃƒÂ¦llandsgade                 33   \n",
       "3       4            Kolding          Vejlevej                135   \n",
       "4       5  HÃƒÂ¸rning Hallen          Toftevej                 53   \n",
       "\n",
       "   atm_zipcode  atm_lat  atm_lon  \n",
       "0         9430   57.118    9.861  \n",
       "1         4200   55.398   11.342  \n",
       "2         7000   55.564    9.757  \n",
       "3         6000   55.505    9.457  \n",
       "4         8362   56.091   10.033  "
      ]
     },
     "execution_count": 12,
     "metadata": {},
     "output_type": "execute_result"
    }
   ],
   "source": [
    "pd_loc['loc_id'] = pd_loc.index + 1\n",
    "cols = pd_loc.columns.tolist()\n",
    "col_new=cols[-1:]+cols[:-1]\n",
    "pd_loc=pd_loc[col_new]\n",
    "pd_loc.head()"
   ]
  },
  {
   "cell_type": "code",
   "execution_count": 13,
   "metadata": {},
   "outputs": [
    {
     "data": {
      "text/plain": [
       "109"
      ]
     },
     "execution_count": 13,
     "metadata": {},
     "output_type": "execute_result"
    }
   ],
   "source": [
    "pd_loc.columns = ['loc_id', 'location', 'street_name', 'street_number', 'zipcode', 'lat', 'lon']\n",
    "dim_loc = spark.createDataFrame(pd_loc)\n",
    "dim_loc.count()"
   ]
  },
  {
   "cell_type": "code",
   "execution_count": 14,
   "metadata": {},
   "outputs": [],
   "source": [
    "atm_trans=df.select('year','month','day','weekday','hour','atm_status','atm_id','atm_manufacturer','atm_location','atm_street_name','atm_street_number','atm_zipcode','atm_lat','atm_lon','currency','card_type','transaction_amount','service','message_code','message_text','temp','pressure','humidity','wind_speed','wind_deg','rain_3h','clouds_all','weather_id','weather_main','weather_description')"
   ]
  },
  {
   "cell_type": "code",
   "execution_count": 15,
   "metadata": {},
   "outputs": [
    {
     "name": "stdout",
     "output_type": "stream",
     "text": [
      "+--------------------+----+-------+---+-------+----+------+----------------+----------+--------+----------+------------------+------------+------------+-------+----------+----------+------------+-------------------+------+\n",
      "|           card_type|year|  month|day|weekday|hour|atm_id|atm_manufacturer|atm_status|currency|   service|transaction_amount|message_code|message_text|rain_3h|clouds_all|weather_id|weather_main|weather_description|loc_id|\n",
      "+--------------------+----+-------+---+-------+----+------+----------------+----------+--------+----------+------------------+------------+------------+-------+----------+----------+------------+-------------------+------+\n",
      "|  Mastercard - on-us|2017|January|  1| Sunday|   0|    12|             NCR|  Inactive|     DKK|Withdrawal|              1329|        null|        null|   0.59|        92|       500|        Rain|         light rain|    25|\n",
      "|  Mastercard - on-us|2017|January|  1| Sunday|   0|    12|             NCR|  Inactive|     DKK|Withdrawal|              9570|        null|        null|   0.59|        92|       500|        Rain|         light rain|    25|\n",
      "|  Mastercard - on-us|2017|January|  1| Sunday|   1|    12|             NCR|  Inactive|     DKK|Withdrawal|              1555|        null|        null|   0.59|        92|       500|        Rain|         light rain|    25|\n",
      "|  Mastercard - on-us|2017|January|  1| Sunday|   1|    12|             NCR|  Inactive|     DKK|Withdrawal|              7330|        null|        null|   0.59|        92|       500|        Rain|         light rain|    25|\n",
      "|  Mastercard - on-us|2017|January|  1| Sunday|   2|    12|             NCR|  Inactive|     DKK|Withdrawal|              7281|        null|        null|  1.105|        92|       500|        Rain|         light rain|    25|\n",
      "|  Mastercard - on-us|2017|January|  1| Sunday|   2|    12|             NCR|  Inactive|     DKK|Withdrawal|              8437|        null|        null|  1.105|        92|       500|        Rain|         light rain|    25|\n",
      "|          MasterCard|2017|January|  1| Sunday|   2|    12|             NCR|  Inactive|     DKK|Withdrawal|              2579|        null|        null|  1.105|        92|       500|        Rain|         light rain|    25|\n",
      "|          MasterCard|2017|January|  1| Sunday|   2|    12|             NCR|  Inactive|     DKK|Withdrawal|              1654|        null|        null|  1.105|        92|       500|        Rain|         light rain|    25|\n",
      "|  Mastercard - on-us|2017|January|  1| Sunday|   2|    12|             NCR|  Inactive|     DKK|Withdrawal|               756|        null|        null|  1.105|        92|       500|        Rain|         light rain|    25|\n",
      "|  Mastercard - on-us|2017|January|  1| Sunday|   2|    12|             NCR|  Inactive|     DKK|Withdrawal|              5945|        null|        null|  1.105|        92|       500|        Rain|         light rain|    25|\n",
      "|        Visa Dankort|2017|January|  1| Sunday|   2|    12|             NCR|  Inactive|     DKK|Withdrawal|              3959|        null|        null|  1.105|        92|       500|        Rain|         light rain|    25|\n",
      "|        Visa Dankort|2017|January|  1| Sunday|   3|    12|             NCR|  Inactive|     DKK|Withdrawal|              1269|        null|        null|  1.105|        92|       500|        Rain|         light rain|    25|\n",
      "|        Visa Dankort|2017|January|  1| Sunday|   3|    12|             NCR|  Inactive|     DKK|Withdrawal|               407|        null|        null|  1.105|        92|       500|        Rain|         light rain|    25|\n",
      "| HÃƒÂ¦vekort - on-us|2017|January|  1| Sunday|   3|    12|             NCR|  Inactive|     DKK|Withdrawal|              7142|        null|        null|  1.105|        92|       500|        Rain|         light rain|    25|\n",
      "|          MasterCard|2017|January|  1| Sunday|   3|    12|             NCR|  Inactive|     DKK|Withdrawal|              2285|        null|        null|  1.105|        92|       500|        Rain|         light rain|    25|\n",
      "|        Visa Dankort|2017|January|  1| Sunday|   3|    12|             NCR|  Inactive|     DKK|Withdrawal|              8958|        null|        null|  1.105|        92|       500|        Rain|         light rain|    25|\n",
      "|          MasterCard|2017|January|  1| Sunday|   3|    12|             NCR|  Inactive|     DKK|Withdrawal|              5897|        null|        null|  1.105|        92|       500|        Rain|         light rain|    25|\n",
      "|Visa Dankort - on-us|2017|January|  1| Sunday|   3|    12|             NCR|  Inactive|     DKK|Withdrawal|               348|        null|        null|  1.105|        92|       500|        Rain|         light rain|    25|\n",
      "|          MasterCard|2017|January|  1| Sunday|   3|    12|             NCR|  Inactive|     DKK|Withdrawal|              8555|        null|        null|  1.105|        92|       500|        Rain|         light rain|    25|\n",
      "|                VISA|2017|January|  1| Sunday|   3|    12|             NCR|  Inactive|     DKK|Withdrawal|              9334|        null|        null|  1.105|        92|       500|        Rain|         light rain|    25|\n",
      "+--------------------+----+-------+---+-------+----+------+----------------+----------+--------+----------+------------------+------------+------------+-------+----------+----------+------------+-------------------+------+\n",
      "only showing top 20 rows\n",
      "\n"
     ]
    }
   ],
   "source": [
    "#merging location sid's to fact\n",
    "from pyspark.sql.functions import *\n",
    "atm_trans= atm_trans.join(dim_loc, (atm_trans.atm_location == dim_loc.location)&(atm_trans.atm_lat == dim_loc.lat)&(atm_trans.atm_lon== dim_loc.lon)&(atm_trans.atm_street_name== dim_loc.street_name)&(atm_trans.atm_street_number== dim_loc.street_number)&(atm_trans.atm_zipcode == dim_loc.zipcode),'left')\\\n",
    "  .select(*[atm_trans.card_type]+[atm_trans.year]+[atm_trans.month]+[atm_trans.day]+[atm_trans.weekday]+[atm_trans.hour]+[atm_trans.atm_id]+[atm_trans.atm_manufacturer]+[atm_trans.atm_status]+[atm_trans.currency]+[atm_trans.service]+[atm_trans.transaction_amount]+[atm_trans.message_code]+[atm_trans.message_text]+[atm_trans.rain_3h]+[atm_trans.clouds_all]+[atm_trans.weather_id]+[atm_trans.weather_main]+[atm_trans.weather_description]+[dim_loc.loc_id])\n",
    "atm_trans.show()"
   ]
  },
  {
   "cell_type": "code",
   "execution_count": 16,
   "metadata": {},
   "outputs": [
    {
     "data": {
      "text/plain": [
       "2468572"
      ]
     },
     "execution_count": 16,
     "metadata": {},
     "output_type": "execute_result"
    }
   ],
   "source": [
    "atm_trans.select('loc_id').count()"
   ]
  },
  {
   "cell_type": "code",
   "execution_count": 17,
   "metadata": {},
   "outputs": [
    {
     "data": {
      "text/html": [
       "<div>\n",
       "<style scoped>\n",
       "    .dataframe tbody tr th:only-of-type {\n",
       "        vertical-align: middle;\n",
       "    }\n",
       "\n",
       "    .dataframe tbody tr th {\n",
       "        vertical-align: top;\n",
       "    }\n",
       "\n",
       "    .dataframe thead th {\n",
       "        text-align: right;\n",
       "    }\n",
       "</style>\n",
       "<table border=\"1\" class=\"dataframe\">\n",
       "  <thead>\n",
       "    <tr style=\"text-align: right;\">\n",
       "      <th></th>\n",
       "      <th>atm_id</th>\n",
       "      <th>atm_manufacturer</th>\n",
       "      <th>loc_id</th>\n",
       "    </tr>\n",
       "  </thead>\n",
       "  <tbody>\n",
       "    <tr>\n",
       "      <th>0</th>\n",
       "      <td>21</td>\n",
       "      <td>NCR</td>\n",
       "      <td>86</td>\n",
       "    </tr>\n",
       "    <tr>\n",
       "      <th>1</th>\n",
       "      <td>68</td>\n",
       "      <td>NCR</td>\n",
       "      <td>81</td>\n",
       "    </tr>\n",
       "    <tr>\n",
       "      <th>2</th>\n",
       "      <td>12</td>\n",
       "      <td>NCR</td>\n",
       "      <td>25</td>\n",
       "    </tr>\n",
       "    <tr>\n",
       "      <th>3</th>\n",
       "      <td>79</td>\n",
       "      <td>NCR</td>\n",
       "      <td>29</td>\n",
       "    </tr>\n",
       "    <tr>\n",
       "      <th>4</th>\n",
       "      <td>100</td>\n",
       "      <td>NCR</td>\n",
       "      <td>34</td>\n",
       "    </tr>\n",
       "  </tbody>\n",
       "</table>\n",
       "</div>"
      ],
      "text/plain": [
       "   atm_id atm_manufacturer  loc_id\n",
       "0      21              NCR      86\n",
       "1      68              NCR      81\n",
       "2      12              NCR      25\n",
       "3      79              NCR      29\n",
       "4     100              NCR      34"
      ]
     },
     "execution_count": 17,
     "metadata": {},
     "output_type": "execute_result"
    }
   ],
   "source": [
    "#creating atm dimension\n",
    "dim_atm=atm_trans.select('atm_id','atm_manufacturer', 'loc_id').distinct()\n",
    "pd_atm= dim_atm.select(\"*\").toPandas()\n",
    "pd_atm.head()"
   ]
  },
  {
   "cell_type": "code",
   "execution_count": 18,
   "metadata": {},
   "outputs": [
    {
     "data": {
      "text/html": [
       "<div>\n",
       "<style scoped>\n",
       "    .dataframe tbody tr th:only-of-type {\n",
       "        vertical-align: middle;\n",
       "    }\n",
       "\n",
       "    .dataframe tbody tr th {\n",
       "        vertical-align: top;\n",
       "    }\n",
       "\n",
       "    .dataframe thead th {\n",
       "        text-align: right;\n",
       "    }\n",
       "</style>\n",
       "<table border=\"1\" class=\"dataframe\">\n",
       "  <thead>\n",
       "    <tr style=\"text-align: right;\">\n",
       "      <th></th>\n",
       "      <th>atm_number</th>\n",
       "      <th>atm_manufacturer</th>\n",
       "      <th>atm_locationid</th>\n",
       "      <th>atm_sid</th>\n",
       "    </tr>\n",
       "  </thead>\n",
       "  <tbody>\n",
       "    <tr>\n",
       "      <th>0</th>\n",
       "      <td>21</td>\n",
       "      <td>NCR</td>\n",
       "      <td>86</td>\n",
       "      <td>1</td>\n",
       "    </tr>\n",
       "    <tr>\n",
       "      <th>1</th>\n",
       "      <td>68</td>\n",
       "      <td>NCR</td>\n",
       "      <td>81</td>\n",
       "      <td>2</td>\n",
       "    </tr>\n",
       "    <tr>\n",
       "      <th>2</th>\n",
       "      <td>12</td>\n",
       "      <td>NCR</td>\n",
       "      <td>25</td>\n",
       "      <td>3</td>\n",
       "    </tr>\n",
       "    <tr>\n",
       "      <th>3</th>\n",
       "      <td>79</td>\n",
       "      <td>NCR</td>\n",
       "      <td>29</td>\n",
       "      <td>4</td>\n",
       "    </tr>\n",
       "    <tr>\n",
       "      <th>4</th>\n",
       "      <td>100</td>\n",
       "      <td>NCR</td>\n",
       "      <td>34</td>\n",
       "      <td>5</td>\n",
       "    </tr>\n",
       "  </tbody>\n",
       "</table>\n",
       "</div>"
      ],
      "text/plain": [
       "   atm_number atm_manufacturer  atm_locationid  atm_sid\n",
       "0          21              NCR              86        1\n",
       "1          68              NCR              81        2\n",
       "2          12              NCR              25        3\n",
       "3          79              NCR              29        4\n",
       "4         100              NCR              34        5"
      ]
     },
     "execution_count": 18,
     "metadata": {},
     "output_type": "execute_result"
    }
   ],
   "source": [
    "pd_atm.columns=['atm_number','atm_manufacturer','atm_locationid']\n",
    "pd_atm['atm_sid'] = pd_atm.index + 1\n",
    "#pd_atm= pd_atm['atm_id','atm_number','atm_manufacturer','atm_locationid']\n",
    "pd_atm.head()"
   ]
  },
  {
   "cell_type": "code",
   "execution_count": 20,
   "metadata": {},
   "outputs": [
    {
     "data": {
      "text/plain": [
       "113"
      ]
     },
     "execution_count": 20,
     "metadata": {},
     "output_type": "execute_result"
    }
   ],
   "source": [
    "dim_atm = spark.createDataFrame(pd_atm)\n",
    "dim_atm.count()"
   ]
  },
  {
   "cell_type": "code",
   "execution_count": 21,
   "metadata": {},
   "outputs": [
    {
     "data": {
      "text/html": [
       "<div>\n",
       "<style scoped>\n",
       "    .dataframe tbody tr th:only-of-type {\n",
       "        vertical-align: middle;\n",
       "    }\n",
       "\n",
       "    .dataframe tbody tr th {\n",
       "        vertical-align: top;\n",
       "    }\n",
       "\n",
       "    .dataframe thead th {\n",
       "        text-align: right;\n",
       "    }\n",
       "</style>\n",
       "<table border=\"1\" class=\"dataframe\">\n",
       "  <thead>\n",
       "    <tr style=\"text-align: right;\">\n",
       "      <th></th>\n",
       "      <th>year</th>\n",
       "      <th>month</th>\n",
       "      <th>day</th>\n",
       "      <th>hour</th>\n",
       "      <th>weekday</th>\n",
       "    </tr>\n",
       "  </thead>\n",
       "  <tbody>\n",
       "    <tr>\n",
       "      <th>0</th>\n",
       "      <td>2017</td>\n",
       "      <td>January</td>\n",
       "      <td>10</td>\n",
       "      <td>8</td>\n",
       "      <td>Tuesday</td>\n",
       "    </tr>\n",
       "    <tr>\n",
       "      <th>1</th>\n",
       "      <td>2017</td>\n",
       "      <td>January</td>\n",
       "      <td>15</td>\n",
       "      <td>11</td>\n",
       "      <td>Sunday</td>\n",
       "    </tr>\n",
       "    <tr>\n",
       "      <th>2</th>\n",
       "      <td>2017</td>\n",
       "      <td>January</td>\n",
       "      <td>26</td>\n",
       "      <td>12</td>\n",
       "      <td>Thursday</td>\n",
       "    </tr>\n",
       "    <tr>\n",
       "      <th>3</th>\n",
       "      <td>2017</td>\n",
       "      <td>January</td>\n",
       "      <td>31</td>\n",
       "      <td>14</td>\n",
       "      <td>Tuesday</td>\n",
       "    </tr>\n",
       "    <tr>\n",
       "      <th>4</th>\n",
       "      <td>2017</td>\n",
       "      <td>February</td>\n",
       "      <td>11</td>\n",
       "      <td>17</td>\n",
       "      <td>Saturday</td>\n",
       "    </tr>\n",
       "  </tbody>\n",
       "</table>\n",
       "</div>"
      ],
      "text/plain": [
       "   year     month day hour   weekday\n",
       "0  2017   January  10    8   Tuesday\n",
       "1  2017   January  15   11    Sunday\n",
       "2  2017   January  26   12  Thursday\n",
       "3  2017   January  31   14   Tuesday\n",
       "4  2017  February  11   17  Saturday"
      ]
     },
     "execution_count": 21,
     "metadata": {},
     "output_type": "execute_result"
    }
   ],
   "source": [
    "#creating date dimension\n",
    "dim_time=atm_trans.select('year','month', 'day', 'hour', 'weekday').distinct()\n",
    "pd_time= dim_time.select(\"*\").toPandas()\n",
    "pd_time.head()"
   ]
  },
  {
   "cell_type": "code",
   "execution_count": 22,
   "metadata": {},
   "outputs": [],
   "source": [
    "\n",
    "pd_time.loc[pd_time['month'] == 'January', 'MM'] = '01'\n",
    "pd_time.loc[pd_time['month'] == 'February', 'MM'] = '02'\n",
    "pd_time.loc[pd_time['month'] == 'March', 'MM'] = '03'\n",
    "pd_time.loc[pd_time['month'] == 'April', 'MM'] = '04'\n",
    "pd_time.loc[pd_time['month'] == 'May', 'MM'] = '05'\n",
    "pd_time.loc[pd_time['month'] == 'June', 'MM'] = '06'\n",
    "pd_time.loc[pd_time['month'] == 'July', 'MM'] = '07'\n",
    "pd_time.loc[pd_time['month'] == 'August', 'MM'] = '08'\n",
    "pd_time.loc[pd_time['month'] == 'September', 'MM'] = '09'\n",
    "pd_time.loc[pd_time['month'] == 'October', 'MM'] = '10'\n",
    "pd_time.loc[pd_time['month'] == 'November', 'MM'] = '11'\n",
    "pd_time.loc[pd_time['month'] == 'December', 'MM'] = '12'"
   ]
  },
  {
   "cell_type": "code",
   "execution_count": 23,
   "metadata": {},
   "outputs": [],
   "source": [
    "pd_time['DD']=pd_time['day']\n",
    "pd_time.loc[pd_time['day'] == '1', 'DD'] = '0'+ pd_time['day']\n",
    "pd_time.loc[pd_time['day'] == '2', 'DD'] = '0'+ pd_time['day']\n",
    "pd_time.loc[pd_time['day'] == '3', 'DD'] = '0'+ pd_time['day']\n",
    "pd_time.loc[pd_time['day'] == '4', 'DD'] = '0'+ pd_time['day']\n",
    "pd_time.loc[pd_time['day'] == '5', 'DD'] = '0'+ pd_time['day']\n",
    "pd_time.loc[pd_time['day'] == '6', 'DD'] = '0'+ pd_time['day']\n",
    "pd_time.loc[pd_time['day'] == '7', 'DD'] = '0'+ pd_time['day']\n",
    "pd_time.loc[pd_time['day'] == '8', 'DD'] = '0'+ pd_time['day']\n",
    "pd_time.loc[pd_time['day'] == '9', 'DD'] = '0'+ pd_time['day']\n",
    "\n",
    "pd_time['HH']=pd_time['hour']\n",
    "pd_time.loc[pd_time['hour'] == '0', 'HH'] = '0'+ pd_time['hour']\n",
    "pd_time.loc[pd_time['hour'] == '1', 'HH'] = '0'+ pd_time['hour']\n",
    "pd_time.loc[pd_time['hour'] == '2', 'HH'] = '0'+ pd_time['hour']\n",
    "pd_time.loc[pd_time['hour'] == '3', 'HH'] = '0'+ pd_time['hour']\n",
    "pd_time.loc[pd_time['hour'] == '4', 'HH'] = '0'+ pd_time['hour']\n",
    "pd_time.loc[pd_time['hour'] == '5', 'HH'] = '0'+ pd_time['hour']\n",
    "pd_time.loc[pd_time['hour'] == '6', 'HH'] = '0'+ pd_time['hour']\n",
    "pd_time.loc[pd_time['hour'] == '7', 'HH'] = '0'+ pd_time['hour']\n",
    "pd_time.loc[pd_time['hour'] == '8', 'HH'] = '0'+ pd_time['hour']\n",
    "pd_time.loc[pd_time['hour'] == '9', 'HH'] = '0'+ pd_time['hour']\n"
   ]
  },
  {
   "cell_type": "code",
   "execution_count": 24,
   "metadata": {},
   "outputs": [
    {
     "data": {
      "text/html": [
       "<div>\n",
       "<style scoped>\n",
       "    .dataframe tbody tr th:only-of-type {\n",
       "        vertical-align: middle;\n",
       "    }\n",
       "\n",
       "    .dataframe tbody tr th {\n",
       "        vertical-align: top;\n",
       "    }\n",
       "\n",
       "    .dataframe thead th {\n",
       "        text-align: right;\n",
       "    }\n",
       "</style>\n",
       "<table border=\"1\" class=\"dataframe\">\n",
       "  <thead>\n",
       "    <tr style=\"text-align: right;\">\n",
       "      <th></th>\n",
       "      <th>year</th>\n",
       "      <th>month</th>\n",
       "      <th>day</th>\n",
       "      <th>hour</th>\n",
       "      <th>weekday</th>\n",
       "      <th>MM</th>\n",
       "      <th>DD</th>\n",
       "      <th>HH</th>\n",
       "      <th>timestamp</th>\n",
       "    </tr>\n",
       "  </thead>\n",
       "  <tbody>\n",
       "    <tr>\n",
       "      <th>0</th>\n",
       "      <td>2017</td>\n",
       "      <td>January</td>\n",
       "      <td>10</td>\n",
       "      <td>8</td>\n",
       "      <td>Tuesday</td>\n",
       "      <td>01</td>\n",
       "      <td>10</td>\n",
       "      <td>08</td>\n",
       "      <td>2017-01-10 08:00:00</td>\n",
       "    </tr>\n",
       "    <tr>\n",
       "      <th>1</th>\n",
       "      <td>2017</td>\n",
       "      <td>January</td>\n",
       "      <td>15</td>\n",
       "      <td>11</td>\n",
       "      <td>Sunday</td>\n",
       "      <td>01</td>\n",
       "      <td>15</td>\n",
       "      <td>11</td>\n",
       "      <td>2017-01-15 11:00:00</td>\n",
       "    </tr>\n",
       "    <tr>\n",
       "      <th>2</th>\n",
       "      <td>2017</td>\n",
       "      <td>January</td>\n",
       "      <td>26</td>\n",
       "      <td>12</td>\n",
       "      <td>Thursday</td>\n",
       "      <td>01</td>\n",
       "      <td>26</td>\n",
       "      <td>12</td>\n",
       "      <td>2017-01-26 12:00:00</td>\n",
       "    </tr>\n",
       "    <tr>\n",
       "      <th>3</th>\n",
       "      <td>2017</td>\n",
       "      <td>January</td>\n",
       "      <td>31</td>\n",
       "      <td>14</td>\n",
       "      <td>Tuesday</td>\n",
       "      <td>01</td>\n",
       "      <td>31</td>\n",
       "      <td>14</td>\n",
       "      <td>2017-01-31 14:00:00</td>\n",
       "    </tr>\n",
       "    <tr>\n",
       "      <th>4</th>\n",
       "      <td>2017</td>\n",
       "      <td>February</td>\n",
       "      <td>11</td>\n",
       "      <td>17</td>\n",
       "      <td>Saturday</td>\n",
       "      <td>02</td>\n",
       "      <td>11</td>\n",
       "      <td>17</td>\n",
       "      <td>2017-02-11 17:00:00</td>\n",
       "    </tr>\n",
       "  </tbody>\n",
       "</table>\n",
       "</div>"
      ],
      "text/plain": [
       "   year     month day hour   weekday  MM  DD  HH            timestamp\n",
       "0  2017   January  10    8   Tuesday  01  10  08  2017-01-10 08:00:00\n",
       "1  2017   January  15   11    Sunday  01  15  11  2017-01-15 11:00:00\n",
       "2  2017   January  26   12  Thursday  01  26  12  2017-01-26 12:00:00\n",
       "3  2017   January  31   14   Tuesday  01  31  14  2017-01-31 14:00:00\n",
       "4  2017  February  11   17  Saturday  02  11  17  2017-02-11 17:00:00"
      ]
     },
     "execution_count": 24,
     "metadata": {},
     "output_type": "execute_result"
    }
   ],
   "source": [
    "pd_time['timestamp']= pd_time['year']+'-'+pd_time['MM']+'-'+pd_time['DD']+' '+pd_time['HH']+':00:00'\n",
    "from datetime import datetime\n",
    "pd_time['timestamp'] = pd.to_datetime(pd_time['timestamp']).dt.strftime('%Y-%m-%d %H:%M:%S')\n",
    "pd_time.head()"
   ]
  },
  {
   "cell_type": "code",
   "execution_count": 25,
   "metadata": {},
   "outputs": [
    {
     "data": {
      "text/html": [
       "<div>\n",
       "<style scoped>\n",
       "    .dataframe tbody tr th:only-of-type {\n",
       "        vertical-align: middle;\n",
       "    }\n",
       "\n",
       "    .dataframe tbody tr th {\n",
       "        vertical-align: top;\n",
       "    }\n",
       "\n",
       "    .dataframe thead th {\n",
       "        text-align: right;\n",
       "    }\n",
       "</style>\n",
       "<table border=\"1\" class=\"dataframe\">\n",
       "  <thead>\n",
       "    <tr style=\"text-align: right;\">\n",
       "      <th></th>\n",
       "      <th>year</th>\n",
       "      <th>month</th>\n",
       "      <th>day</th>\n",
       "      <th>hour</th>\n",
       "      <th>weekday</th>\n",
       "      <th>timestamp</th>\n",
       "      <th>time_sid</th>\n",
       "    </tr>\n",
       "  </thead>\n",
       "  <tbody>\n",
       "    <tr>\n",
       "      <th>0</th>\n",
       "      <td>2017</td>\n",
       "      <td>January</td>\n",
       "      <td>1</td>\n",
       "      <td>0</td>\n",
       "      <td>Sunday</td>\n",
       "      <td>2017-01-01 00:00:00</td>\n",
       "      <td>1</td>\n",
       "    </tr>\n",
       "    <tr>\n",
       "      <th>1</th>\n",
       "      <td>2017</td>\n",
       "      <td>January</td>\n",
       "      <td>1</td>\n",
       "      <td>1</td>\n",
       "      <td>Sunday</td>\n",
       "      <td>2017-01-01 01:00:00</td>\n",
       "      <td>2</td>\n",
       "    </tr>\n",
       "    <tr>\n",
       "      <th>2</th>\n",
       "      <td>2017</td>\n",
       "      <td>January</td>\n",
       "      <td>1</td>\n",
       "      <td>2</td>\n",
       "      <td>Sunday</td>\n",
       "      <td>2017-01-01 02:00:00</td>\n",
       "      <td>3</td>\n",
       "    </tr>\n",
       "    <tr>\n",
       "      <th>3</th>\n",
       "      <td>2017</td>\n",
       "      <td>January</td>\n",
       "      <td>1</td>\n",
       "      <td>3</td>\n",
       "      <td>Sunday</td>\n",
       "      <td>2017-01-01 03:00:00</td>\n",
       "      <td>4</td>\n",
       "    </tr>\n",
       "    <tr>\n",
       "      <th>4</th>\n",
       "      <td>2017</td>\n",
       "      <td>January</td>\n",
       "      <td>1</td>\n",
       "      <td>4</td>\n",
       "      <td>Sunday</td>\n",
       "      <td>2017-01-01 04:00:00</td>\n",
       "      <td>5</td>\n",
       "    </tr>\n",
       "  </tbody>\n",
       "</table>\n",
       "</div>"
      ],
      "text/plain": [
       "   year    month day hour weekday            timestamp  time_sid\n",
       "0  2017  January   1    0  Sunday  2017-01-01 00:00:00         1\n",
       "1  2017  January   1    1  Sunday  2017-01-01 01:00:00         2\n",
       "2  2017  January   1    2  Sunday  2017-01-01 02:00:00         3\n",
       "3  2017  January   1    3  Sunday  2017-01-01 03:00:00         4\n",
       "4  2017  January   1    4  Sunday  2017-01-01 04:00:00         5"
      ]
     },
     "execution_count": 25,
     "metadata": {},
     "output_type": "execute_result"
    }
   ],
   "source": [
    "pd_time= pd_time[['year', 'month', 'day', 'hour', 'weekday','timestamp']]\n",
    "pd_time.sort_values('timestamp',inplace=True)\n",
    "pd_time.reset_index(inplace=True)\n",
    "pd_time= pd_time[['year', 'month', 'day', 'hour', 'weekday','timestamp']]\n",
    "pd_time['time_sid']=pd_time.index + 1\n",
    "pd_time.head()"
   ]
  },
  {
   "cell_type": "code",
   "execution_count": 27,
   "metadata": {},
   "outputs": [
    {
     "data": {
      "text/plain": [
       "8685"
      ]
     },
     "execution_count": 27,
     "metadata": {},
     "output_type": "execute_result"
    }
   ],
   "source": [
    "pd_time= pd_time[['time_sid','timestamp','year', 'month', 'day', 'hour', 'weekday']]\n",
    "dim_time = spark.createDataFrame(pd_time)\n",
    "dim_time.count()"
   ]
  },
  {
   "cell_type": "code",
   "execution_count": 28,
   "metadata": {},
   "outputs": [
    {
     "name": "stdout",
     "output_type": "stream",
     "text": [
      "+--------------------+------+----------------+----------+--------+----------+------------------+------------+------------+-------+----------+----------+------------+--------------------+------+--------+\n",
      "|           card_type|atm_id|atm_manufacturer|atm_status|currency|   service|transaction_amount|message_code|message_text|rain_3h|clouds_all|weather_id|weather_main| weather_description|loc_id|time_sid|\n",
      "+--------------------+------+----------------+----------+--------+----------+------------------+------------+------------+-------+----------+----------+------------+--------------------+------+--------+\n",
      "|  Mastercard - on-us|    12|             NCR|  Inactive|     DKK|Withdrawal|              8480|        null|        null|   2.47|        92|       500|        Rain|          light rain|    25|    2696|\n",
      "|  Mastercard - on-us|    43|             NCR|    Active|     DKK|Withdrawal|              9164|        null|        null|    0.0|        90|       500|        Rain|          light rain|     6|    2696|\n",
      "|  Mastercard - on-us|    43|             NCR|    Active|     DKK|Withdrawal|              9208|        null|        null|    0.0|        90|       500|        Rain|          light rain|     6|    2696|\n",
      "|        Visa Dankort|    29|             NCR|  Inactive|     DKK|Withdrawal|              7323|        null|        null|   2.47|        92|       500|        Rain|          light rain|    11|    2696|\n",
      "|     Dankort - on-us|    29|             NCR|  Inactive|     DKK|Withdrawal|              5585|        null|        null|   2.47|        92|       500|        Rain|          light rain|    11|    2696|\n",
      "|        Visa Dankort|    71|             NCR|    Active|     DKK|Withdrawal|              6833|        null|        null|   2.66|        92|       500|        Rain|          light rain|    56|    2696|\n",
      "|  Mastercard - on-us|    71|             NCR|    Active|     DKK|Withdrawal|              5842|        null|        null|   2.66|        92|       500|        Rain|          light rain|    56|    2696|\n",
      "|Visa Dankort - on-us|    31|             NCR|    Active|     DKK|Withdrawal|              4953|        null|        null|   1.86|        92|       500|        Rain|          light rain|     2|    2696|\n",
      "| HÃƒÂ¦vekort - on-us|    37|             NCR|    Active|     DKK|Withdrawal|              3366|        null|        null|    0.0|        90|       301|     Drizzle|             drizzle|    27|    2696|\n",
      "|         HÃƒÂ¦vekort|    37|             NCR|    Active|     DKK|Withdrawal|              9613|        null|        null|    0.0|        90|       301|     Drizzle|             drizzle|    27|    2696|\n",
      "|         HÃƒÂ¦vekort|    37|             NCR|    Active|     DKK|Withdrawal|               989|        null|        null|    0.0|        90|       301|     Drizzle|             drizzle|    27|    2696|\n",
      "|Visa Dankort - on-us|     1|             NCR|    Active|     DKK|Withdrawal|              2263|        null|        null|   1.67|        92|       500|        Rain|          light rain|    98|    2696|\n",
      "|        Visa Dankort|    66|             NCR|    Active|     DKK|Withdrawal|              9119|        null|        null|    0.0|        90|       301|     Drizzle|             drizzle|    24|    2696|\n",
      "|                VISA|    66|             NCR|    Active|     DKK|Withdrawal|              8012|        null|        null|    0.0|        90|       301|     Drizzle|             drizzle|    24|    2696|\n",
      "|  Mastercard - on-us|    41| Diebold Nixdorf|    Active|     DKK|Withdrawal|              8756|        null|        null|    0.0|        90|       301|     Drizzle|             drizzle|    40|    2696|\n",
      "|             Dankort|    28|             NCR|    Active|     DKK|Withdrawal|              4496|        null|        null|   2.47|        92|       500|        Rain|          light rain|    82|    2696|\n",
      "|Visa Dankort - on-us|    28|             NCR|    Active|     DKK|Withdrawal|             10000|        null|        null|   2.47|        92|       500|        Rain|          light rain|    82|    2696|\n",
      "|Visa Dankort - on-us|    57|             NCR|    Active|     DKK|Withdrawal|              4961|        null|        null|    0.0|        75|       300|     Drizzle|light intensity d...|    42|    2696|\n",
      "|        Visa Dankort|    57|             NCR|    Active|     DKK|Withdrawal|              7925|        null|        null|    0.0|        75|       300|     Drizzle|light intensity d...|    42|    2696|\n",
      "|Visa Dankort - on-us|    58|             NCR|    Active|     DKK|Withdrawal|              2406|        null|        null|   2.47|        92|       500|        Rain|          light rain|    99|    2696|\n",
      "+--------------------+------+----------------+----------+--------+----------+------------------+------------+------------+-------+----------+----------+------------+--------------------+------+--------+\n",
      "only showing top 20 rows\n",
      "\n"
     ]
    }
   ],
   "source": [
    "#merging time sid to fact\n",
    "atm_trans= atm_trans.join(dim_time, (atm_trans.year == dim_time.year) & (atm_trans.month==dim_time.month)& (atm_trans.day==dim_time.day)& (atm_trans.hour==dim_time.hour),'left')\\\n",
    "  .select(*[atm_trans.card_type]+[atm_trans.atm_id]+[atm_trans.atm_manufacturer]+[atm_trans.atm_status]+[atm_trans.currency]+[atm_trans.service]+[atm_trans.transaction_amount]+[atm_trans.message_code]+[atm_trans.message_text]+[atm_trans.rain_3h]+[atm_trans.clouds_all]+[atm_trans.weather_id]+[atm_trans.weather_main]+[atm_trans.weather_description]+[atm_trans.loc_id]+[dim_time.time_sid])\n",
    "atm_trans.show()"
   ]
  },
  {
   "cell_type": "code",
   "execution_count": 29,
   "metadata": {},
   "outputs": [],
   "source": [
    "#merging atm dimension\n",
    "atm_trans= atm_trans.join(dim_atm, (atm_trans.atm_id == dim_atm.atm_number) & (atm_trans.atm_manufacturer == dim_atm.atm_manufacturer) & (atm_trans.loc_id == dim_atm.atm_locationid),'left')\\\n",
    "  .select(*[atm_trans.card_type]+[atm_trans.atm_status]+[atm_trans.currency]+[atm_trans.service]+[atm_trans.transaction_amount]+[atm_trans.message_code]+[atm_trans.message_text]+[atm_trans.rain_3h]+[atm_trans.clouds_all]+[atm_trans.weather_id]+[atm_trans.weather_main]+[atm_trans.weather_description]+[atm_trans.loc_id]+[atm_trans.time_sid]+[dim_atm.atm_sid])"
   ]
  },
  {
   "cell_type": "code",
   "execution_count": 31,
   "metadata": {},
   "outputs": [
    {
     "name": "stdout",
     "output_type": "stream",
     "text": [
      "+--------------------+----------+--------+----------+------------------+------------+------------+-------+----------+----------+------------+--------------------+------+--------+-------+---------+\n",
      "|           card_type|atm_status|currency|   service|transaction_amount|message_code|message_text|rain_3h|clouds_all|weather_id|weather_main| weather_description|loc_id|time_sid|atm_sid|trans_sid|\n",
      "+--------------------+----------+--------+----------+------------------+------------+------------+-------+----------+----------+------------+--------------------+------+--------+-------+---------+\n",
      "|          MasterCard|    Active|     DKK|Withdrawal|              1501|        null|        null|    0.0|        75|       520|        Rain|light intensity s...|    81|    2804|      2|        0|\n",
      "|  Mastercard - on-us|    Active|     DKK|Withdrawal|              7344|        null|        null|    0.0|        75|       520|        Rain|light intensity s...|    81|    2804|      2|        1|\n",
      "|  Mastercard - on-us|    Active|     DKK|Withdrawal|              7272|        null|        null|    0.0|        75|       520|        Rain|light intensity s...|    81|    2804|      2|        2|\n",
      "|  Mastercard - on-us|    Active|     DKK|Withdrawal|              8889|        null|        null|    0.0|        75|       520|        Rain|light intensity s...|    81|    2804|      2|        3|\n",
      "|        Visa Dankort|    Active|     DKK|Withdrawal|              3561|        null|        null|    0.0|        75|       520|        Rain|light intensity s...|    81|    2804|      2|        4|\n",
      "|          MasterCard|    Active|     DKK|Withdrawal|              4071|        null|        null|    0.0|        75|       520|        Rain|light intensity s...|    81|    2804|      2|        5|\n",
      "|  Mastercard - on-us|    Active|     DKK|Withdrawal|              5890|        null|        null|    0.0|        92|       520|        Rain|light intensity s...|    81|    5608|      2|        6|\n",
      "|Visa Dankort - on-us|    Active|     DKK|Withdrawal|              8248|        null|        null|    0.0|        92|       520|        Rain|light intensity s...|    81|    5608|      2|        7|\n",
      "|Visa Dankort - on-us|    Active|     DKK|Withdrawal|              7668|        null|        null|    0.0|        80|       520|        Rain|light intensity s...|    81|    8048|      2|        8|\n",
      "|  Mastercard - on-us|    Active|     DKK|Withdrawal|               122|        null|        null|    0.0|        80|       520|        Rain|light intensity s...|    81|    8048|      2|        9|\n",
      "|  Mastercard - on-us|    Active|     DKK|Withdrawal|              2574|        null|        null|    0.0|        80|       520|        Rain|light intensity s...|    81|    8048|      2|       10|\n",
      "|        Visa Dankort|    Active|     DKK|Withdrawal|              5167|        null|        null|    0.0|        80|       520|        Rain|light intensity s...|    81|    8048|      2|       11|\n",
      "|                VISA|    Active|     DKK|Withdrawal|              6783|        null|        null|    0.0|        80|       520|        Rain|light intensity s...|    81|    8048|      2|       12|\n",
      "|                VISA|    Active|     DKK|Withdrawal|              7450|        null|        null|    0.0|        80|       520|        Rain|light intensity s...|    81|    8048|      2|       13|\n",
      "|Visa Dankort - on-us|    Active|     DKK|Withdrawal|              3787|        null|        null|    0.0|        80|       520|        Rain|light intensity s...|    81|    8048|      2|       14|\n",
      "|Visa Dankort - on-us|    Active|     DKK|Withdrawal|              5466|        null|        null|    0.0|        90|       311|     Drizzle|    rain and drizzle|    81|    8097|      2|       15|\n",
      "|          MasterCard|    Active|     DKK|Withdrawal|              5521|        null|        null|    0.0|        20|       801|      Clouds|          few clouds|    81|    8124|      2|       16|\n",
      "|Visa Dankort - on-us|    Active|     DKK|Withdrawal|              4189|        null|        null|    0.0|        20|       801|      Clouds|          few clouds|    81|    8124|      2|       17|\n",
      "|                VISA|    Active|     DKK|Withdrawal|              9448|        null|        null|    0.0|        20|       801|      Clouds|          few clouds|    81|    8124|      2|       18|\n",
      "|Visa Dankort - on-us|    Active|     DKK|Withdrawal|              6249|        null|        null|    0.0|        20|       801|      Clouds|          few clouds|    81|    8124|      2|       19|\n",
      "+--------------------+----------+--------+----------+------------------+------------+------------+-------+----------+----------+------------+--------------------+------+--------+-------+---------+\n",
      "only showing top 20 rows\n",
      "\n"
     ]
    }
   ],
   "source": [
    "#creating transaction sid\n",
    "from pyspark.sql import functions as F\n",
    "atm_trans= atm_trans.withColumn(\"trans_sid\", F.monotonically_increasing_id())\n",
    "atm_trans.show()"
   ]
  },
  {
   "cell_type": "code",
   "execution_count": 32,
   "metadata": {},
   "outputs": [
    {
     "name": "stdout",
     "output_type": "stream",
     "text": [
      "+---------+-------+------+--------+------------+----------+--------+----------+------------------+------------+------------+-------+----------+----------+------------+--------------------+\n",
      "|trans_sid|atm_sid|loc_id|time_sid|card_type_id|atm_status|currency|   service|transaction_amount|message_code|message_text|rain_3h|clouds_all|weather_id|weather_main| weather_description|\n",
      "+---------+-------+------+--------+------------+----------+--------+----------+------------------+------------+------------+-------+----------+----------+------------+--------------------+\n",
      "|       75|      2|    81|    5801|           1|    Active|     DKK|Withdrawal|              5191|        null|        null|    0.0|        40|       520|        Rain|light intensity s...|\n",
      "|       88|      2|    81|    8121|           1|    Active|     DKK|Withdrawal|              3335|        null|        null|    0.0|        40|       521|        Rain|proximity shower ...|\n",
      "|       95|      2|    81|     701|           1|    Active|     DKK|Withdrawal|              1412|        null|        null|    0.0|        75|       300|     Drizzle|light intensity d...|\n",
      "|      139|      2|    81|    6606|           1|    Active|     DKK|Withdrawal|              2936|        null|        null|    0.0|        75|       301|     Drizzle|             drizzle|\n",
      "|      270|      2|    81|    6699|           1|    Active|     DKK|Withdrawal|              1298|        null|        null|    0.0|        44|       802|      Clouds|    scattered clouds|\n",
      "|      515|      2|    81|    7673|           1|    Active|     DKK|Withdrawal|              6499|        null|        null|    0.0|         0|       800|       Clear|        Sky is Clear|\n",
      "|      521|      2|    81|    6869|           1|    Active|     DKK|Withdrawal|              8355|        null|        null|    0.0|        76|       701|        Mist|                mist|\n",
      "|      542|      2|    81|    2325|           1|    Active|     DKK|Withdrawal|              1200|        null|        null|    0.0|        12|       801|      Clouds|          few clouds|\n",
      "|      625|      2|    81|    3012|           1|    Active|     DKK|Withdrawal|              3626|        null|        null|    0.0|        24|       801|      Clouds|          few clouds|\n",
      "|      687|      2|    81|    2873|           1|    Active|     DKK|Withdrawal|              7680|        null|        null|    0.0|        20|       801|      Clouds|          few clouds|\n",
      "|      694|      2|    81|    3450|           1|    Active|     DKK|Withdrawal|              6352|        null|        null|    0.0|         0|       701|        Mist|                mist|\n",
      "|      711|      2|    81|    3014|           1|    Active|     DKK|Withdrawal|              5963|        null|        null|    0.0|        24|       801|      Clouds|          few clouds|\n",
      "|      732|      2|    81|    5819|           1|    Active|     DKK|Withdrawal|              5605|        null|        null|    0.0|         8|       800|       Clear|        sky is clear|\n",
      "|      768|      2|    81|    4805|           1|    Active|     DKK|Withdrawal|              8775|        null|        null|   0.29|        88|       500|        Rain|          light rain|\n",
      "|      769|      2|    81|    4805|           1|    Active|     DKK|Withdrawal|              6614|        null|        null|   0.29|        88|       500|        Rain|          light rain|\n",
      "|      873|      2|    81|    8004|           1|    Active|     DKK|Withdrawal|              4005|        null|        null|    0.0|        56|       300|     Drizzle|light intensity d...|\n",
      "|     1017|      2|    81|    6676|           1|    Active|     DKK|Withdrawal|              3939|        null|        null|    0.0|         0|       800|       Clear|        Sky is Clear|\n",
      "|     1456|      2|    81|    1921|           1|    Active|     DKK|Withdrawal|              9911|        null|        null|    0.0|        36|       802|      Clouds|    scattered clouds|\n",
      "|     1548|      2|    81|    2080|           1|    Active|     DKK|Withdrawal|              7883|        null|        null|    0.0|        90|       701|        Mist|                mist|\n",
      "|     1558|      2|    81|    3396|           1|    Active|     DKK|Withdrawal|              5774|        null|        null|   0.92|        24|       500|        Rain|          light rain|\n",
      "+---------+-------+------+--------+------------+----------+--------+----------+------------------+------------+------------+-------+----------+----------+------------+--------------------+\n",
      "only showing top 20 rows\n",
      "\n"
     ]
    }
   ],
   "source": [
    "#merging cardtype sid\n",
    "fact_atm_trans= atm_trans.join(dim_cardtype, (atm_trans.card_type == dim_cardtype.card_type),'left')\\\n",
    "  .select(*[atm_trans.trans_sid]+[atm_trans.atm_sid]+[atm_trans.loc_id]+[atm_trans.time_sid]+[dim_cardtype.card_type_id]+[atm_trans.atm_status]+[atm_trans.currency]+[atm_trans.service]+[atm_trans.transaction_amount]+[atm_trans.message_code]+[atm_trans.message_text]+[atm_trans.rain_3h]+[atm_trans.clouds_all]+[atm_trans.weather_id]+[atm_trans.weather_main]+[atm_trans.weather_description])\n",
    "fact_atm_trans.show()"
   ]
  },
  {
   "cell_type": "code",
   "execution_count": 33,
   "metadata": {},
   "outputs": [
    {
     "data": {
      "text/plain": [
       "2468572"
      ]
     },
     "execution_count": 33,
     "metadata": {},
     "output_type": "execute_result"
    }
   ],
   "source": [
    "#final count\n",
    "fact_atm_trans.select('*').count()"
   ]
  },
  {
   "cell_type": "code",
   "execution_count": 43,
   "metadata": {},
   "outputs": [],
   "source": [
    "#dimension file upload\n",
    "dim_time.write.csv(\"s3a://atmtransbucket/time\")\n",
    "dim_loc.write.csv(\"s3a://atmtransbucket/loc\")\n",
    "dim_atm.write.csv(\"s3a://atmtransbucket/atm\")\n",
    "dim_cardtype.write.csv(\"s3a://atmtransbucket/cardtype\")"
   ]
  },
  {
   "cell_type": "code",
   "execution_count": 42,
   "metadata": {},
   "outputs": [],
   "source": [
    "#fact upload\n",
    "fact_atm_trans.write.option(\"sep\",\"|\").csv(\"s3a://atmtransbucket/fact_text\")"
   ]
  }
 ],
 "metadata": {
  "kernelspec": {
   "display_name": "Python 3",
   "language": "python",
   "name": "python3"
  },
  "language_info": {
   "codemirror_mode": {
    "name": "ipython",
    "version": 3
   },
   "file_extension": ".py",
   "mimetype": "text/x-python",
   "name": "python",
   "nbconvert_exporter": "python",
   "pygments_lexer": "ipython3",
   "version": "3.8.3"
  }
 },
 "nbformat": 4,
 "nbformat_minor": 2
}
